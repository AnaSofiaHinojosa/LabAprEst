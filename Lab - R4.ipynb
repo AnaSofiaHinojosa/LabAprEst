{
 "cells": [
  {
   "cell_type": "markdown",
   "id": "2e2753e4-9dc7-41d7-b080-d1abfbb16b28",
   "metadata": {},
   "source": [
    "# Laboratorio de regresión - 4"
   ]
  },
  {
   "cell_type": "markdown",
   "id": "c396ea70-b88c-4346-a14f-4aa7ca2e1b00",
   "metadata": {},
   "source": [
    "|                |   |\n",
    ":----------------|---|\n",
    "| **Nombre**     | Ana Sofía Hinojosa Bale  |\n",
    "| **Fecha**      | 24 de agosto 2025        |\n",
    "| **Expediente** | 742594                   |"
   ]
  },
  {
   "cell_type": "markdown",
   "id": "77def53e-10bf-474e-acdf-728e07bef102",
   "metadata": {},
   "source": [
    "## Modelos penalizados"
   ]
  },
  {
   "cell_type": "markdown",
   "id": "d9bb791d-1843-4b4d-bd8b-69e6419511e8",
   "metadata": {},
   "source": [
    "Hasta ahora la función de costo que usamos para decidir qué tan bueno es nuestro modelo al momento de ajustar es:\n",
    "\n",
    "$$ \\text{RSS} = \\sum_{i=1}^n e_i^2 = \\sum_{i=1}^n (y_i - \\hat{y_i})^2 $$"
   ]
  },
  {
   "cell_type": "markdown",
   "id": "4e6b5e6b-abe9-4b75-b045-e4444de4fc35",
   "metadata": {},
   "source": [
    "Dado que los errores obtenidos son una combinación de sesgo y varianza, puede ser que se sesgue un parámetro para minimizar el error. Esto significa que el modelo puede decidir que la salida no sea una combinación de los factores, sino una fuerte predilección sobre uno de los factores solamente. "
   ]
  },
  {
   "cell_type": "markdown",
   "id": "84901f9e-5551-455a-a70c-c7e39d9e55ae",
   "metadata": {},
   "source": [
    "E.g. se quiere ajustar un modelo\n",
    "\n",
    "$$ \\hat{z} = \\hat{\\beta_0} + \\hat{\\beta_1} x + \\hat{\\beta_2} y $$"
   ]
  },
  {
   "cell_type": "markdown",
   "id": "d6f473fc-6364-4b15-9bd4-f21a94cae151",
   "metadata": {},
   "source": [
    "Se ajusta el modelo y se decide que la mejor decisión es $\\hat{\\beta_1} = 10000$ y $\\hat{\\beta_2}=50$. Considera limitaciones de problemas reales:\n",
    "- Quizás los parámetros son ajustes de maquinaria que se deben realizar para conseguir el mejor producto posible, y que $10000$ sea imposible de asignar.\n",
    "- Quizás los datos actuales están sesgados y sólo hacen parecer que uno de los factores importa más que el otro."
   ]
  },
  {
   "cell_type": "markdown",
   "id": "ff32fbaa-7965-42c1-9b73-3640414b77f2",
   "metadata": {},
   "source": [
    "Una de las formas en las que se puede mitigar este problema es penalizando a los parámetros del modelo, cambiando la función de costo:"
   ]
  },
  {
   "cell_type": "markdown",
   "id": "3fc78736-9d8e-4e8b-94f3-6647bdaeb0d1",
   "metadata": {},
   "source": [
    "$$ \\text{RSS}_{L2} = \\sum_{i=1}^n e_i^2  + \\lambda \\sum_{j=1}^p \\hat{\\beta_j}^2 $$"
   ]
  },
  {
   "cell_type": "markdown",
   "id": "2d942bf5-fb39-44a0-b612-4ec05ab99b71",
   "metadata": {},
   "source": [
    "El *L2* significa que se está agregando una penalización de segundo orden. Lo que hace esta penalización es que los factores ahora sólo tendrán permitido crecer si hay una reducción al menos proporcional en el error (sacrificamos sesgo, pero reducimos la varianza)."
   ]
  },
  {
   "cell_type": "markdown",
   "id": "45c0cafb-c152-48e4-a345-bb5348eb16c7",
   "metadata": {},
   "source": [
    "Asimismo, existe la penalización *L1*"
   ]
  },
  {
   "cell_type": "markdown",
   "id": "9d9f2d93-d151-47ed-834f-4a7e91e94286",
   "metadata": {},
   "source": [
    "$$ \\text{RSS}_{L1} = \\sum_{i=1}^n e_i^2  + \\lambda \\sum_{j=1}^p |\\hat{\\beta_j}| $$"
   ]
  },
  {
   "cell_type": "markdown",
   "id": "ea95f232-25ab-4b4c-99b3-075a18878d95",
   "metadata": {},
   "source": [
    "A las penalizaciones *L2* y *L1* se les conoce también como Ridge y Lasso, respectivamente."
   ]
  },
  {
   "cell_type": "markdown",
   "id": "e41dfafb-fd1f-475a-a718-dec1e3773326",
   "metadata": {},
   "source": [
    "Para realizar una regresión con penalización de Ridge o de Lasso usamos el objeto `Ridge(alpha=?)` o `Lasso(alpha=?)` en lugar de `LinearRegression()` de `sklearn`."
   ]
  },
  {
   "cell_type": "markdown",
   "id": "ce36cb41-005e-4cb0-b8ab-92e6ae6c4c19",
   "metadata": {},
   "source": [
    "Utiliza el dataset de publicidad (Advertising.csv) y realiza 3 regresiones múltiples:\n",
    "\n",
    "$$ \\text{sales} = \\beta_0 + \\beta_1 (\\text{TV}) + \\beta_2 (\\text{radio}) + \\beta_3 (\\text{newspaper}) + \\epsilon $$"
   ]
  },
  {
   "cell_type": "markdown",
   "id": "d92e4008-ada1-4e82-9756-23fd357821d2",
   "metadata": {},
   "source": [
    "1. Sin penalización\n",
    "2. Con penalización L2\n",
    "3. Con penalización L1\n",
    "\n",
    "Compara los resultados de los parámetros y sus *p-values*, y los $R^2$ resultantes."
   ]
  },
  {
   "cell_type": "code",
   "execution_count": 1,
   "id": "489b6c52-9025-4ca7-8e96-ca70c294cf7c",
   "metadata": {},
   "outputs": [],
   "source": [
    "import pandas as pd\n",
    "import numpy as np\n",
    "from sklearn.linear_model import LinearRegression\n",
    "from sklearn.metrics import r2_score\n",
    "from scipy import stats\n",
    "from sklearn.preprocessing import StandardScaler\n",
    "from sklearn.linear_model import Lasso\n",
    "from sklearn.linear_model import Ridge\n",
    "from sklearn.model_selection import train_test_split"
   ]
  },
  {
   "cell_type": "code",
   "execution_count": 2,
   "id": "6f859166-06cf-478e-89d7-e6e5c2cb5ff0",
   "metadata": {},
   "outputs": [],
   "source": [
    "data = pd.read_csv(\"Advertising.csv\")\n",
    "x = data.drop(columns = ['sales'])\n",
    "y = data['sales']"
   ]
  },
  {
   "cell_type": "code",
   "execution_count": 3,
   "id": "f6e51321",
   "metadata": {},
   "outputs": [],
   "source": [
    "def datos(x):\n",
    "    x_train, x_test, y_train, y_test = train_test_split(x, y, test_size=0.5, random_state=42)\n",
    "    scaler = StandardScaler().fit(x_train)\n",
    "    x_train_scaled = scaler.transform(x_train)\n",
    "    x_test_scaled = scaler.transform(x_test)\n",
    "    return x_train_scaled, x_test_scaled, y_train, y_test"
   ]
  },
  {
   "cell_type": "markdown",
   "id": "cd0b5406",
   "metadata": {},
   "source": [
    "### Modelos"
   ]
  },
  {
   "cell_type": "code",
   "execution_count": 4,
   "id": "53efacc6-e600-4705-b180-3d297324a244",
   "metadata": {},
   "outputs": [],
   "source": [
    "lr = LinearRegression()\n",
    "ridge = Ridge(alpha=0.1)\n",
    "lasso = Lasso(alpha=0.1)"
   ]
  },
  {
   "cell_type": "code",
   "execution_count": 5,
   "id": "589760ee",
   "metadata": {},
   "outputs": [],
   "source": [
    "def resultado(model, x):\n",
    "    x_train_scaled, y_train = datos(x)[0], datos(x)[2]\n",
    "    model.fit(x_train_scaled, y_train)\n",
    "    y_pred = model.predict(x_train_scaled)\n",
    "    n = x_train_scaled.shape[0]\n",
    "    p = x_train_scaled.shape[1]\n",
    "    RSS = np.sum((y_pred - y_train)**2)\n",
    "    var = RSS / (n - p - 1)\n",
    "\n",
    "    b_0 = model.intercept_\n",
    "    b_i = model.coef_\n",
    "\n",
    "    X = np.column_stack((np.ones(n), x_train_scaled))\n",
    "    var_beta = np.linalg.inv(X.T @ X) * var\n",
    "    std_beta = np.sqrt(np.diag(var_beta))\n",
    "\n",
    "    t_stats = np.array([b_0] + list(b_i)) / std_beta\n",
    "    p_values = [2 * (1 - stats.t.cdf(np.abs(t), n - p - 1)) for t in t_stats]\n",
    "\n",
    "    if hasattr(x, 'columns'):\n",
    "        nombres = [\"Intercepto\"] + list(x.columns)\n",
    "    else:\n",
    "        nombres = [\"Intercepto\"] + [f\"x{i+1}\" for i in range(x.shape[1])]\n",
    "\n",
    "    return pd.DataFrame({\n",
    "        'Parámetro': nombres,\n",
    "        'Coeficiente': [b_0] + list(b_i),\n",
    "        't-Estadistico': t_stats,\n",
    "        'p-value': p_values\n",
    "    }), pd.DataFrame({\n",
    "        'R2': [r2_score(y_train, y_pred)]\n",
    "    })"
   ]
  },
  {
   "cell_type": "code",
   "execution_count": 6,
   "id": "ad3523ba",
   "metadata": {},
   "outputs": [],
   "source": [
    "def resultado_sin_split(model, x):\n",
    "    scaler = StandardScaler().fit(x)\n",
    "    x_scaled = scaler.transform(x)\n",
    "    model.fit(x_scaled, y)\n",
    "    y_pred = model.predict(x_scaled)\n",
    "    n = x_scaled.shape[0]\n",
    "    p = x_scaled.shape[1]\n",
    "    RSS = np.sum((y_pred - y)**2)\n",
    "    var = RSS / (n - p - 1)\n",
    "\n",
    "    b_0 = model.intercept_\n",
    "    b_i = model.coef_\n",
    "\n",
    "    X = np.column_stack((np.ones(n), x_scaled))\n",
    "    var_beta = np.linalg.inv(X.T @ X) * var\n",
    "    std_beta = np.sqrt(np.diag(var_beta))\n",
    "\n",
    "    t_stats = np.array([b_0] + list(b_i)) / std_beta\n",
    "    p_values = [2 * (1 - stats.t.cdf(np.abs(t), n - p - 1)) for t in t_stats]\n",
    "\n",
    "    if hasattr(x, 'columns'):\n",
    "        nombres = [\"Intercepto\"] + list(x.columns)\n",
    "    else:\n",
    "        nombres = [\"Intercepto\"] + [f\"x{i+1}\" for i in range(x.shape[1])]\n",
    "\n",
    "    return pd.DataFrame({\n",
    "        'Parámetro': nombres,\n",
    "        'Coeficiente': [b_0] + list(b_i),\n",
    "        't-Estadistico': t_stats,\n",
    "        'p-value': p_values\n",
    "    }), pd.DataFrame({\n",
    "        'R2': [r2_score(y, y_pred)]\n",
    "    })"
   ]
  },
  {
   "cell_type": "code",
   "execution_count": null,
   "id": "7ea420e3",
   "metadata": {},
   "outputs": [
    {
     "data": {
      "text/html": [
       "<div>\n",
       "<style scoped>\n",
       "    .dataframe tbody tr th:only-of-type {\n",
       "        vertical-align: middle;\n",
       "    }\n",
       "\n",
       "    .dataframe tbody tr th {\n",
       "        vertical-align: top;\n",
       "    }\n",
       "\n",
       "    .dataframe thead th {\n",
       "        text-align: right;\n",
       "    }\n",
       "</style>\n",
       "<table border=\"1\" class=\"dataframe\">\n",
       "  <thead>\n",
       "    <tr style=\"text-align: right;\">\n",
       "      <th></th>\n",
       "      <th>Parámetro</th>\n",
       "      <th>Coeficiente</th>\n",
       "      <th>t-Estadistico</th>\n",
       "      <th>p-value</th>\n",
       "    </tr>\n",
       "  </thead>\n",
       "  <tbody>\n",
       "    <tr>\n",
       "      <th>0</th>\n",
       "      <td>Intercepto</td>\n",
       "      <td>14.022500</td>\n",
       "      <td>117.377059</td>\n",
       "      <td>0.000000</td>\n",
       "    </tr>\n",
       "    <tr>\n",
       "      <th>1</th>\n",
       "      <td>Unnamed: 0</td>\n",
       "      <td>-0.033476</td>\n",
       "      <td>-0.276207</td>\n",
       "      <td>0.782681</td>\n",
       "    </tr>\n",
       "    <tr>\n",
       "      <th>2</th>\n",
       "      <td>TV</td>\n",
       "      <td>3.920219</td>\n",
       "      <td>32.725344</td>\n",
       "      <td>0.000000</td>\n",
       "    </tr>\n",
       "    <tr>\n",
       "      <th>3</th>\n",
       "      <td>radio</td>\n",
       "      <td>2.789888</td>\n",
       "      <td>21.783554</td>\n",
       "      <td>0.000000</td>\n",
       "    </tr>\n",
       "    <tr>\n",
       "      <th>4</th>\n",
       "      <td>newspaper</td>\n",
       "      <td>-0.027010</td>\n",
       "      <td>-0.209600</td>\n",
       "      <td>0.834198</td>\n",
       "    </tr>\n",
       "  </tbody>\n",
       "</table>\n",
       "</div>"
      ],
      "text/plain": [
       "    Parámetro  Coeficiente  t-Estadistico   p-value\n",
       "0  Intercepto    14.022500     117.377059  0.000000\n",
       "1  Unnamed: 0    -0.033476      -0.276207  0.782681\n",
       "2          TV     3.920219      32.725344  0.000000\n",
       "3       radio     2.789888      21.783554  0.000000\n",
       "4   newspaper    -0.027010      -0.209600  0.834198"
      ]
     },
     "execution_count": 11,
     "metadata": {},
     "output_type": "execute_result"
    }
   ],
   "source": [
    "resultado_sin_split(lr, x)[0]"
   ]
  },
  {
   "cell_type": "code",
   "execution_count": 13,
   "id": "a8c17660",
   "metadata": {},
   "outputs": [
    {
     "data": {
      "text/html": [
       "<div>\n",
       "<style scoped>\n",
       "    .dataframe tbody tr th:only-of-type {\n",
       "        vertical-align: middle;\n",
       "    }\n",
       "\n",
       "    .dataframe tbody tr th {\n",
       "        vertical-align: top;\n",
       "    }\n",
       "\n",
       "    .dataframe thead th {\n",
       "        text-align: right;\n",
       "    }\n",
       "</style>\n",
       "<table border=\"1\" class=\"dataframe\">\n",
       "  <thead>\n",
       "    <tr style=\"text-align: right;\">\n",
       "      <th></th>\n",
       "      <th>Parámetro</th>\n",
       "      <th>Coeficiente</th>\n",
       "      <th>t-Estadistico</th>\n",
       "      <th>p-value</th>\n",
       "    </tr>\n",
       "  </thead>\n",
       "  <tbody>\n",
       "    <tr>\n",
       "      <th>0</th>\n",
       "      <td>Intercepto</td>\n",
       "      <td>14.510000</td>\n",
       "      <td>87.199770</td>\n",
       "      <td>0.000000</td>\n",
       "    </tr>\n",
       "    <tr>\n",
       "      <th>1</th>\n",
       "      <td>Unnamed: 0</td>\n",
       "      <td>-0.082404</td>\n",
       "      <td>-0.489584</td>\n",
       "      <td>0.625557</td>\n",
       "    </tr>\n",
       "    <tr>\n",
       "      <th>2</th>\n",
       "      <td>TV</td>\n",
       "      <td>3.579615</td>\n",
       "      <td>21.323016</td>\n",
       "      <td>0.000000</td>\n",
       "    </tr>\n",
       "    <tr>\n",
       "      <th>3</th>\n",
       "      <td>radio</td>\n",
       "      <td>3.042295</td>\n",
       "      <td>16.771220</td>\n",
       "      <td>0.000000</td>\n",
       "    </tr>\n",
       "    <tr>\n",
       "      <th>4</th>\n",
       "      <td>newspaper</td>\n",
       "      <td>0.257293</td>\n",
       "      <td>1.405547</td>\n",
       "      <td>0.163121</td>\n",
       "    </tr>\n",
       "  </tbody>\n",
       "</table>\n",
       "</div>"
      ],
      "text/plain": [
       "    Parámetro  Coeficiente  t-Estadistico   p-value\n",
       "0  Intercepto    14.510000      87.199770  0.000000\n",
       "1  Unnamed: 0    -0.082404      -0.489584  0.625557\n",
       "2          TV     3.579615      21.323016  0.000000\n",
       "3       radio     3.042295      16.771220  0.000000\n",
       "4   newspaper     0.257293       1.405547  0.163121"
      ]
     },
     "execution_count": 13,
     "metadata": {},
     "output_type": "execute_result"
    }
   ],
   "source": [
    "resultado(lr, x)[0]"
   ]
  },
  {
   "cell_type": "code",
   "execution_count": 8,
   "id": "e6106d9b",
   "metadata": {},
   "outputs": [
    {
     "data": {
      "text/html": [
       "<div>\n",
       "<style scoped>\n",
       "    .dataframe tbody tr th:only-of-type {\n",
       "        vertical-align: middle;\n",
       "    }\n",
       "\n",
       "    .dataframe tbody tr th {\n",
       "        vertical-align: top;\n",
       "    }\n",
       "\n",
       "    .dataframe thead th {\n",
       "        text-align: right;\n",
       "    }\n",
       "</style>\n",
       "<table border=\"1\" class=\"dataframe\">\n",
       "  <thead>\n",
       "    <tr style=\"text-align: right;\">\n",
       "      <th></th>\n",
       "      <th>Parámetro</th>\n",
       "      <th>Coeficiente</th>\n",
       "      <th>t-Estadistico</th>\n",
       "      <th>p-value</th>\n",
       "    </tr>\n",
       "  </thead>\n",
       "  <tbody>\n",
       "    <tr>\n",
       "      <th>0</th>\n",
       "      <td>Intercepto</td>\n",
       "      <td>14.510000</td>\n",
       "      <td>86.729938</td>\n",
       "      <td>0.000000</td>\n",
       "    </tr>\n",
       "    <tr>\n",
       "      <th>1</th>\n",
       "      <td>Unnamed: 0</td>\n",
       "      <td>-0.000000</td>\n",
       "      <td>-0.000000</td>\n",
       "      <td>1.000000</td>\n",
       "    </tr>\n",
       "    <tr>\n",
       "      <th>2</th>\n",
       "      <td>TV</td>\n",
       "      <td>3.486050</td>\n",
       "      <td>20.653787</td>\n",
       "      <td>0.000000</td>\n",
       "    </tr>\n",
       "    <tr>\n",
       "      <th>3</th>\n",
       "      <td>radio</td>\n",
       "      <td>2.975235</td>\n",
       "      <td>16.313169</td>\n",
       "      <td>0.000000</td>\n",
       "    </tr>\n",
       "    <tr>\n",
       "      <th>4</th>\n",
       "      <td>newspaper</td>\n",
       "      <td>0.203549</td>\n",
       "      <td>1.105961</td>\n",
       "      <td>0.271536</td>\n",
       "    </tr>\n",
       "  </tbody>\n",
       "</table>\n",
       "</div>"
      ],
      "text/plain": [
       "    Parámetro  Coeficiente  t-Estadistico   p-value\n",
       "0  Intercepto    14.510000      86.729938  0.000000\n",
       "1  Unnamed: 0    -0.000000      -0.000000  1.000000\n",
       "2          TV     3.486050      20.653787  0.000000\n",
       "3       radio     2.975235      16.313169  0.000000\n",
       "4   newspaper     0.203549       1.105961  0.271536"
      ]
     },
     "execution_count": 8,
     "metadata": {},
     "output_type": "execute_result"
    }
   ],
   "source": [
    "resultado(lasso, x)[0]"
   ]
  },
  {
   "cell_type": "code",
   "execution_count": 9,
   "id": "515c4665",
   "metadata": {},
   "outputs": [
    {
     "data": {
      "text/html": [
       "<div>\n",
       "<style scoped>\n",
       "    .dataframe tbody tr th:only-of-type {\n",
       "        vertical-align: middle;\n",
       "    }\n",
       "\n",
       "    .dataframe tbody tr th {\n",
       "        vertical-align: top;\n",
       "    }\n",
       "\n",
       "    .dataframe thead th {\n",
       "        text-align: right;\n",
       "    }\n",
       "</style>\n",
       "<table border=\"1\" class=\"dataframe\">\n",
       "  <thead>\n",
       "    <tr style=\"text-align: right;\">\n",
       "      <th></th>\n",
       "      <th>Parámetro</th>\n",
       "      <th>Coeficiente</th>\n",
       "      <th>t-Estadistico</th>\n",
       "      <th>p-value</th>\n",
       "    </tr>\n",
       "  </thead>\n",
       "  <tbody>\n",
       "    <tr>\n",
       "      <th>0</th>\n",
       "      <td>Intercepto</td>\n",
       "      <td>14.510000</td>\n",
       "      <td>87.199408</td>\n",
       "      <td>0.000000</td>\n",
       "    </tr>\n",
       "    <tr>\n",
       "      <th>1</th>\n",
       "      <td>Unnamed: 0</td>\n",
       "      <td>-0.082063</td>\n",
       "      <td>-0.487557</td>\n",
       "      <td>0.626987</td>\n",
       "    </tr>\n",
       "    <tr>\n",
       "      <th>2</th>\n",
       "      <td>TV</td>\n",
       "      <td>3.576183</td>\n",
       "      <td>21.302486</td>\n",
       "      <td>0.000000</td>\n",
       "    </tr>\n",
       "    <tr>\n",
       "      <th>3</th>\n",
       "      <td>radio</td>\n",
       "      <td>3.039029</td>\n",
       "      <td>16.753150</td>\n",
       "      <td>0.000000</td>\n",
       "    </tr>\n",
       "    <tr>\n",
       "      <th>4</th>\n",
       "      <td>newspaper</td>\n",
       "      <td>0.258695</td>\n",
       "      <td>1.413196</td>\n",
       "      <td>0.160866</td>\n",
       "    </tr>\n",
       "  </tbody>\n",
       "</table>\n",
       "</div>"
      ],
      "text/plain": [
       "    Parámetro  Coeficiente  t-Estadistico   p-value\n",
       "0  Intercepto    14.510000      87.199408  0.000000\n",
       "1  Unnamed: 0    -0.082063      -0.487557  0.626987\n",
       "2          TV     3.576183      21.302486  0.000000\n",
       "3       radio     3.039029      16.753150  0.000000\n",
       "4   newspaper     0.258695       1.413196  0.160866"
      ]
     },
     "execution_count": 9,
     "metadata": {},
     "output_type": "execute_result"
    }
   ],
   "source": [
    "resultado(ridge, x)[0]"
   ]
  },
  {
   "cell_type": "code",
   "execution_count": 10,
   "id": "ed575038",
   "metadata": {},
   "outputs": [
    {
     "data": {
      "text/html": [
       "<div>\n",
       "<style scoped>\n",
       "    .dataframe tbody tr th:only-of-type {\n",
       "        vertical-align: middle;\n",
       "    }\n",
       "\n",
       "    .dataframe tbody tr th {\n",
       "        vertical-align: top;\n",
       "    }\n",
       "\n",
       "    .dataframe thead th {\n",
       "        text-align: right;\n",
       "    }\n",
       "</style>\n",
       "<table border=\"1\" class=\"dataframe\">\n",
       "  <thead>\n",
       "    <tr style=\"text-align: right;\">\n",
       "      <th></th>\n",
       "      <th>Modelo</th>\n",
       "      <th>R2</th>\n",
       "    </tr>\n",
       "  </thead>\n",
       "  <tbody>\n",
       "    <tr>\n",
       "      <th>0</th>\n",
       "      <td>Linear Regression</td>\n",
       "      <td>0.904502</td>\n",
       "    </tr>\n",
       "    <tr>\n",
       "      <th>1</th>\n",
       "      <td>Lasso</td>\n",
       "      <td>0.903465</td>\n",
       "    </tr>\n",
       "    <tr>\n",
       "      <th>2</th>\n",
       "      <td>Ridge</td>\n",
       "      <td>0.904502</td>\n",
       "    </tr>\n",
       "  </tbody>\n",
       "</table>\n",
       "</div>"
      ],
      "text/plain": [
       "              Modelo        R2\n",
       "0  Linear Regression  0.904502\n",
       "1              Lasso  0.903465\n",
       "2              Ridge  0.904502"
      ]
     },
     "execution_count": 10,
     "metadata": {},
     "output_type": "execute_result"
    }
   ],
   "source": [
    "pd.DataFrame({\n",
    "    'Modelo': ['Linear Regression', 'Lasso', 'Ridge'],\n",
    "\n",
    "    'R2': [\n",
    "        resultado(lr, x)[1]['R2'][0],\n",
    "        resultado(lasso, x)[1]['R2'][0],\n",
    "        resultado(ridge, x)[1]['R2'][0]\n",
    "    ]\n",
    "})"
   ]
  }
 ],
 "metadata": {
  "kernelspec": {
   "display_name": "Python 3",
   "language": "python",
   "name": "python3"
  },
  "language_info": {
   "codemirror_mode": {
    "name": "ipython",
    "version": 3
   },
   "file_extension": ".py",
   "mimetype": "text/x-python",
   "name": "python",
   "nbconvert_exporter": "python",
   "pygments_lexer": "ipython3",
   "version": "3.9.6"
  }
 },
 "nbformat": 4,
 "nbformat_minor": 5
}
