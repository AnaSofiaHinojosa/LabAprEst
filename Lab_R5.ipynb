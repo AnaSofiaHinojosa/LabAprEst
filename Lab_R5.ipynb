{
  "cells": [
    {
      "cell_type": "markdown",
      "id": "70086771-ad90-497d-9b51-22626c9cce63",
      "metadata": {
        "id": "70086771-ad90-497d-9b51-22626c9cce63"
      },
      "source": [
        "# Laboratorio de regresión - 5"
      ]
    },
    {
      "cell_type": "markdown",
      "id": "9f666e0e-9e63-49f4-96e1-053c5b1738c3",
      "metadata": {
        "id": "9f666e0e-9e63-49f4-96e1-053c5b1738c3"
      },
      "source": [
        "|                |   |\n",
        ":----------------|---|\n",
        "| **Nombre**     | Ana Sofía Hinojosa Bale  |\n",
        "| **Fecha**      | 15 de septiembre 2025  |\n",
        "| **Expediente** | 742594  |"
      ]
    },
    {
      "cell_type": "markdown",
      "id": "19f352dc-5863-4685-af3c-25f8fcf60841",
      "metadata": {
        "id": "19f352dc-5863-4685-af3c-25f8fcf60841"
      },
      "source": [
        "## Validación"
      ]
    },
    {
      "cell_type": "markdown",
      "id": "b73fccec-9651-4f74-9d56-a3c2b2097e19",
      "metadata": {
        "id": "b73fccec-9651-4f74-9d56-a3c2b2097e19"
      },
      "source": [
        "Hemos estado usando `train_test_split` en nuestros modelos anteriores.\n",
        "\n",
        "¿Por qué?"
      ]
    },
    {
      "cell_type": "markdown",
      "id": "84fe97ab-a033-4d0f-ab73-0cdabe591655",
      "metadata": {
        "id": "84fe97ab-a033-4d0f-ab73-0cdabe591655"
      },
      "source": []
    },
    {
      "cell_type": "markdown",
      "id": "20b452d0-e0b5-4d92-bd1a-288fa14a2ed9",
      "metadata": {
        "id": "20b452d0-e0b5-4d92-bd1a-288fa14a2ed9"
      },
      "source": []
    },
    {
      "cell_type": "markdown",
      "id": "0a60a028-ed60-4a5c-9308-dee4862e2bac",
      "metadata": {
        "id": "0a60a028-ed60-4a5c-9308-dee4862e2bac"
      },
      "source": [
        "Si la muestra es un subset de la población y queremos generalizar sobre la población, ¿no sería mejor utilizar todos los datos al entrenar un modelo?"
      ]
    },
    {
      "cell_type": "markdown",
      "id": "50989a32-59e7-4bef-9b60-89f543d8ca81",
      "metadata": {
        "id": "50989a32-59e7-4bef-9b60-89f543d8ca81"
      },
      "source": []
    },
    {
      "cell_type": "markdown",
      "id": "ed8b1ad0-3c68-4f6a-b16b-c0b1353d7dd2",
      "metadata": {
        "id": "ed8b1ad0-3c68-4f6a-b16b-c0b1353d7dd2"
      },
      "source": []
    },
    {
      "cell_type": "markdown",
      "id": "b98d96f3-7370-4161-aa67-75f10e5817cd",
      "metadata": {
        "id": "b98d96f3-7370-4161-aa67-75f10e5817cd"
      },
      "source": [
        "El propósito de volver a muestrear dentro de nuestro dataset es tener una idea de qué tan buena podría ser la generalización de nuestro modelo. Imagina un dataset ya separado en dos mitades. Utilizas la primera mitad para entrenar el modelo y pruebas en la segunda mitad; la segunda mitad eran datos invisibles para el modelo al momento de entrenar. Esto nos lleva a tres escenario típicos:\n",
        "\n",
        "1. Si el modelo hace buenas predicciones en la segunda mitad, significa que la primera mitad era \"suficiente\" para generalizar.\n",
        "2. Si el modelo no hace buenas predicciones en la segunda mitad, pero sí en la primera mitad, podría ser que había información importante en la segunda mitad que debió haber sido tomada en cuenta al entrenar, o un problema de overfitting.\n",
        "3. Si el modelo no hace buenas predicciones en la segunda mitad, y tampoco en la primera mitad, se tendrían que revisar los factores y/o el modelo seleccionado.\n",
        "\n",
        "El caso ideal sería el 1, pero por estadística los errores y varianzas tienen como entrada el número de muestas, por lo que tenemos menos seguridad de nuestros resutados al usar menos muestras. Si vemos que el modelo generaliza bien podemos unir de nuevo el dataset y entrenar sobre el dataset completo.\n",
        "\n",
        "En el caso 2 está el problema de que no podemos saber qué información es necesaria para el entrenamiento apropiado del modelo; esto nos lleva a pensar que debemos usar el dataset completo para entrenar, pero esto nos lleva al mismo problema de no saber si el modelo puede generalizar.\n",
        "\n",
        "El problema sólo incrementa si se tienen hiperparámetros en el modelo (e.g. $\\lambda$ en regularización)."
      ]
    },
    {
      "cell_type": "markdown",
      "id": "a16176ad-41fc-4f3c-b865-2eb4219152e2",
      "metadata": {
        "id": "a16176ad-41fc-4f3c-b865-2eb4219152e2"
      },
      "source": [
        "## Leave-One-Out Cross Validation"
      ]
    },
    {
      "cell_type": "markdown",
      "id": "e1f7165d-5b5d-4e92-ae7f-7edb12eea745",
      "metadata": {
        "id": "e1f7165d-5b5d-4e92-ae7f-7edb12eea745"
      },
      "source": [
        "Este método de validación es una colección de $n$ `train-test-split`. Teniendo un dataset de $n$ muestras, la lógica es:\n",
        "1. Saca una muestra del dataset.\n",
        "2. Entrena tu modelo con las $n-1$ muestras.\n",
        "3. Evalúa tu modelo en la muestra que quedó fuera con el métrico que más se ajuste a la aplicación.\n",
        "4. Regresa la muestra al dataset.\n",
        "5. Repite 1-4 con muestras diferentes hasta haber hecho el procedimiento $n$ veces para $n$ muestras.\n",
        "6. Calcula la media y desviación estándar de los métricos guardados."
      ]
    },
    {
      "cell_type": "markdown",
      "id": "21340b80-8fa4-4cdf-8fe4-85e4a35febcd",
      "metadata": {
        "id": "21340b80-8fa4-4cdf-8fe4-85e4a35febcd"
      },
      "source": [
        "Con los resultados del proceso de validación podemos saber qué tan bueno podría ser el modelo seleccionado con los datos (con/sin transformaciones)."
      ]
    },
    {
      "cell_type": "markdown",
      "id": "0983bf1c-a6a2-42e4-a522-92bba6b450ab",
      "metadata": {
        "id": "0983bf1c-a6a2-42e4-a522-92bba6b450ab"
      },
      "source": [
        "### Ejercicio 1"
      ]
    },
    {
      "cell_type": "markdown",
      "id": "21e5f076-bc52-482c-9560-ecd0c125efa7",
      "metadata": {
        "id": "21e5f076-bc52-482c-9560-ecd0c125efa7"
      },
      "source": [
        "Utiliza el dataset `Motor Trend Car Road Tests`. Elimina la columna `model` y entrena 32 modelos diferentes utilizando Leave-One-Out Cross Validation con target `mpg`. Utiliza MSE como métrico."
      ]
    },
    {
      "cell_type": "code",
      "source": [
        "import pandas as pd\n",
        "import numpy as np\n",
        "import matplotlib.pyplot as plt\n",
        "from sklearn.linear_model import LinearRegression\n",
        "from sklearn.metrics import r2_score\n",
        "from scipy import stats\n",
        "from sklearn.preprocessing import StandardScaler\n",
        "from sklearn.metrics import mean_squared_error"
      ],
      "metadata": {
        "id": "1pZue3u0jSir"
      },
      "id": "1pZue3u0jSir",
      "execution_count": 27,
      "outputs": []
    },
    {
      "cell_type": "code",
      "execution_count": 12,
      "id": "b7199ca1-32f0-463b-925f-76613d608a72",
      "metadata": {
        "colab": {
          "base_uri": "https://localhost:8080/",
          "height": 206
        },
        "id": "b7199ca1-32f0-463b-925f-76613d608a72",
        "outputId": "e4eeefc9-b3ba-4175-c5e6-7282ecec2ebc"
      },
      "outputs": [
        {
          "output_type": "execute_result",
          "data": {
            "text/plain": [
              "     mpg  cyl   disp   hp  drat     wt  qsec  vs  am  gear  carb\n",
              "27  30.4    4   95.1  113  3.77  1.513  16.9   1   1     5     2\n",
              "28  15.8    8  351.0  264  4.22  3.170  14.5   0   1     5     4\n",
              "29  19.7    6  145.0  175  3.62  2.770  15.5   0   1     5     6\n",
              "30  15.0    8  301.0  335  3.54  3.570  14.6   0   1     5     8\n",
              "31  21.4    4  121.0  109  4.11  2.780  18.6   1   1     4     2"
            ],
            "text/html": [
              "\n",
              "  <div id=\"df-3269f987-5d30-428e-9053-17abfbd64bd3\" class=\"colab-df-container\">\n",
              "    <div>\n",
              "<style scoped>\n",
              "    .dataframe tbody tr th:only-of-type {\n",
              "        vertical-align: middle;\n",
              "    }\n",
              "\n",
              "    .dataframe tbody tr th {\n",
              "        vertical-align: top;\n",
              "    }\n",
              "\n",
              "    .dataframe thead th {\n",
              "        text-align: right;\n",
              "    }\n",
              "</style>\n",
              "<table border=\"1\" class=\"dataframe\">\n",
              "  <thead>\n",
              "    <tr style=\"text-align: right;\">\n",
              "      <th></th>\n",
              "      <th>mpg</th>\n",
              "      <th>cyl</th>\n",
              "      <th>disp</th>\n",
              "      <th>hp</th>\n",
              "      <th>drat</th>\n",
              "      <th>wt</th>\n",
              "      <th>qsec</th>\n",
              "      <th>vs</th>\n",
              "      <th>am</th>\n",
              "      <th>gear</th>\n",
              "      <th>carb</th>\n",
              "    </tr>\n",
              "  </thead>\n",
              "  <tbody>\n",
              "    <tr>\n",
              "      <th>27</th>\n",
              "      <td>30.4</td>\n",
              "      <td>4</td>\n",
              "      <td>95.1</td>\n",
              "      <td>113</td>\n",
              "      <td>3.77</td>\n",
              "      <td>1.513</td>\n",
              "      <td>16.9</td>\n",
              "      <td>1</td>\n",
              "      <td>1</td>\n",
              "      <td>5</td>\n",
              "      <td>2</td>\n",
              "    </tr>\n",
              "    <tr>\n",
              "      <th>28</th>\n",
              "      <td>15.8</td>\n",
              "      <td>8</td>\n",
              "      <td>351.0</td>\n",
              "      <td>264</td>\n",
              "      <td>4.22</td>\n",
              "      <td>3.170</td>\n",
              "      <td>14.5</td>\n",
              "      <td>0</td>\n",
              "      <td>1</td>\n",
              "      <td>5</td>\n",
              "      <td>4</td>\n",
              "    </tr>\n",
              "    <tr>\n",
              "      <th>29</th>\n",
              "      <td>19.7</td>\n",
              "      <td>6</td>\n",
              "      <td>145.0</td>\n",
              "      <td>175</td>\n",
              "      <td>3.62</td>\n",
              "      <td>2.770</td>\n",
              "      <td>15.5</td>\n",
              "      <td>0</td>\n",
              "      <td>1</td>\n",
              "      <td>5</td>\n",
              "      <td>6</td>\n",
              "    </tr>\n",
              "    <tr>\n",
              "      <th>30</th>\n",
              "      <td>15.0</td>\n",
              "      <td>8</td>\n",
              "      <td>301.0</td>\n",
              "      <td>335</td>\n",
              "      <td>3.54</td>\n",
              "      <td>3.570</td>\n",
              "      <td>14.6</td>\n",
              "      <td>0</td>\n",
              "      <td>1</td>\n",
              "      <td>5</td>\n",
              "      <td>8</td>\n",
              "    </tr>\n",
              "    <tr>\n",
              "      <th>31</th>\n",
              "      <td>21.4</td>\n",
              "      <td>4</td>\n",
              "      <td>121.0</td>\n",
              "      <td>109</td>\n",
              "      <td>4.11</td>\n",
              "      <td>2.780</td>\n",
              "      <td>18.6</td>\n",
              "      <td>1</td>\n",
              "      <td>1</td>\n",
              "      <td>4</td>\n",
              "      <td>2</td>\n",
              "    </tr>\n",
              "  </tbody>\n",
              "</table>\n",
              "</div>\n",
              "    <div class=\"colab-df-buttons\">\n",
              "\n",
              "  <div class=\"colab-df-container\">\n",
              "    <button class=\"colab-df-convert\" onclick=\"convertToInteractive('df-3269f987-5d30-428e-9053-17abfbd64bd3')\"\n",
              "            title=\"Convert this dataframe to an interactive table.\"\n",
              "            style=\"display:none;\">\n",
              "\n",
              "  <svg xmlns=\"http://www.w3.org/2000/svg\" height=\"24px\" viewBox=\"0 -960 960 960\">\n",
              "    <path d=\"M120-120v-720h720v720H120Zm60-500h600v-160H180v160Zm220 220h160v-160H400v160Zm0 220h160v-160H400v160ZM180-400h160v-160H180v160Zm440 0h160v-160H620v160ZM180-180h160v-160H180v160Zm440 0h160v-160H620v160Z\"/>\n",
              "  </svg>\n",
              "    </button>\n",
              "\n",
              "  <style>\n",
              "    .colab-df-container {\n",
              "      display:flex;\n",
              "      gap: 12px;\n",
              "    }\n",
              "\n",
              "    .colab-df-convert {\n",
              "      background-color: #E8F0FE;\n",
              "      border: none;\n",
              "      border-radius: 50%;\n",
              "      cursor: pointer;\n",
              "      display: none;\n",
              "      fill: #1967D2;\n",
              "      height: 32px;\n",
              "      padding: 0 0 0 0;\n",
              "      width: 32px;\n",
              "    }\n",
              "\n",
              "    .colab-df-convert:hover {\n",
              "      background-color: #E2EBFA;\n",
              "      box-shadow: 0px 1px 2px rgba(60, 64, 67, 0.3), 0px 1px 3px 1px rgba(60, 64, 67, 0.15);\n",
              "      fill: #174EA6;\n",
              "    }\n",
              "\n",
              "    .colab-df-buttons div {\n",
              "      margin-bottom: 4px;\n",
              "    }\n",
              "\n",
              "    [theme=dark] .colab-df-convert {\n",
              "      background-color: #3B4455;\n",
              "      fill: #D2E3FC;\n",
              "    }\n",
              "\n",
              "    [theme=dark] .colab-df-convert:hover {\n",
              "      background-color: #434B5C;\n",
              "      box-shadow: 0px 1px 3px 1px rgba(0, 0, 0, 0.15);\n",
              "      filter: drop-shadow(0px 1px 2px rgba(0, 0, 0, 0.3));\n",
              "      fill: #FFFFFF;\n",
              "    }\n",
              "  </style>\n",
              "\n",
              "    <script>\n",
              "      const buttonEl =\n",
              "        document.querySelector('#df-3269f987-5d30-428e-9053-17abfbd64bd3 button.colab-df-convert');\n",
              "      buttonEl.style.display =\n",
              "        google.colab.kernel.accessAllowed ? 'block' : 'none';\n",
              "\n",
              "      async function convertToInteractive(key) {\n",
              "        const element = document.querySelector('#df-3269f987-5d30-428e-9053-17abfbd64bd3');\n",
              "        const dataTable =\n",
              "          await google.colab.kernel.invokeFunction('convertToInteractive',\n",
              "                                                    [key], {});\n",
              "        if (!dataTable) return;\n",
              "\n",
              "        const docLinkHtml = 'Like what you see? Visit the ' +\n",
              "          '<a target=\"_blank\" href=https://colab.research.google.com/notebooks/data_table.ipynb>data table notebook</a>'\n",
              "          + ' to learn more about interactive tables.';\n",
              "        element.innerHTML = '';\n",
              "        dataTable['output_type'] = 'display_data';\n",
              "        await google.colab.output.renderOutput(dataTable, element);\n",
              "        const docLink = document.createElement('div');\n",
              "        docLink.innerHTML = docLinkHtml;\n",
              "        element.appendChild(docLink);\n",
              "      }\n",
              "    </script>\n",
              "  </div>\n",
              "\n",
              "\n",
              "    <div id=\"df-4ee56564-1357-42b4-9430-6d5d3db51878\">\n",
              "      <button class=\"colab-df-quickchart\" onclick=\"quickchart('df-4ee56564-1357-42b4-9430-6d5d3db51878')\"\n",
              "                title=\"Suggest charts\"\n",
              "                style=\"display:none;\">\n",
              "\n",
              "<svg xmlns=\"http://www.w3.org/2000/svg\" height=\"24px\"viewBox=\"0 0 24 24\"\n",
              "     width=\"24px\">\n",
              "    <g>\n",
              "        <path d=\"M19 3H5c-1.1 0-2 .9-2 2v14c0 1.1.9 2 2 2h14c1.1 0 2-.9 2-2V5c0-1.1-.9-2-2-2zM9 17H7v-7h2v7zm4 0h-2V7h2v10zm4 0h-2v-4h2v4z\"/>\n",
              "    </g>\n",
              "</svg>\n",
              "      </button>\n",
              "\n",
              "<style>\n",
              "  .colab-df-quickchart {\n",
              "      --bg-color: #E8F0FE;\n",
              "      --fill-color: #1967D2;\n",
              "      --hover-bg-color: #E2EBFA;\n",
              "      --hover-fill-color: #174EA6;\n",
              "      --disabled-fill-color: #AAA;\n",
              "      --disabled-bg-color: #DDD;\n",
              "  }\n",
              "\n",
              "  [theme=dark] .colab-df-quickchart {\n",
              "      --bg-color: #3B4455;\n",
              "      --fill-color: #D2E3FC;\n",
              "      --hover-bg-color: #434B5C;\n",
              "      --hover-fill-color: #FFFFFF;\n",
              "      --disabled-bg-color: #3B4455;\n",
              "      --disabled-fill-color: #666;\n",
              "  }\n",
              "\n",
              "  .colab-df-quickchart {\n",
              "    background-color: var(--bg-color);\n",
              "    border: none;\n",
              "    border-radius: 50%;\n",
              "    cursor: pointer;\n",
              "    display: none;\n",
              "    fill: var(--fill-color);\n",
              "    height: 32px;\n",
              "    padding: 0;\n",
              "    width: 32px;\n",
              "  }\n",
              "\n",
              "  .colab-df-quickchart:hover {\n",
              "    background-color: var(--hover-bg-color);\n",
              "    box-shadow: 0 1px 2px rgba(60, 64, 67, 0.3), 0 1px 3px 1px rgba(60, 64, 67, 0.15);\n",
              "    fill: var(--button-hover-fill-color);\n",
              "  }\n",
              "\n",
              "  .colab-df-quickchart-complete:disabled,\n",
              "  .colab-df-quickchart-complete:disabled:hover {\n",
              "    background-color: var(--disabled-bg-color);\n",
              "    fill: var(--disabled-fill-color);\n",
              "    box-shadow: none;\n",
              "  }\n",
              "\n",
              "  .colab-df-spinner {\n",
              "    border: 2px solid var(--fill-color);\n",
              "    border-color: transparent;\n",
              "    border-bottom-color: var(--fill-color);\n",
              "    animation:\n",
              "      spin 1s steps(1) infinite;\n",
              "  }\n",
              "\n",
              "  @keyframes spin {\n",
              "    0% {\n",
              "      border-color: transparent;\n",
              "      border-bottom-color: var(--fill-color);\n",
              "      border-left-color: var(--fill-color);\n",
              "    }\n",
              "    20% {\n",
              "      border-color: transparent;\n",
              "      border-left-color: var(--fill-color);\n",
              "      border-top-color: var(--fill-color);\n",
              "    }\n",
              "    30% {\n",
              "      border-color: transparent;\n",
              "      border-left-color: var(--fill-color);\n",
              "      border-top-color: var(--fill-color);\n",
              "      border-right-color: var(--fill-color);\n",
              "    }\n",
              "    40% {\n",
              "      border-color: transparent;\n",
              "      border-right-color: var(--fill-color);\n",
              "      border-top-color: var(--fill-color);\n",
              "    }\n",
              "    60% {\n",
              "      border-color: transparent;\n",
              "      border-right-color: var(--fill-color);\n",
              "    }\n",
              "    80% {\n",
              "      border-color: transparent;\n",
              "      border-right-color: var(--fill-color);\n",
              "      border-bottom-color: var(--fill-color);\n",
              "    }\n",
              "    90% {\n",
              "      border-color: transparent;\n",
              "      border-bottom-color: var(--fill-color);\n",
              "    }\n",
              "  }\n",
              "</style>\n",
              "\n",
              "      <script>\n",
              "        async function quickchart(key) {\n",
              "          const quickchartButtonEl =\n",
              "            document.querySelector('#' + key + ' button');\n",
              "          quickchartButtonEl.disabled = true;  // To prevent multiple clicks.\n",
              "          quickchartButtonEl.classList.add('colab-df-spinner');\n",
              "          try {\n",
              "            const charts = await google.colab.kernel.invokeFunction(\n",
              "                'suggestCharts', [key], {});\n",
              "          } catch (error) {\n",
              "            console.error('Error during call to suggestCharts:', error);\n",
              "          }\n",
              "          quickchartButtonEl.classList.remove('colab-df-spinner');\n",
              "          quickchartButtonEl.classList.add('colab-df-quickchart-complete');\n",
              "        }\n",
              "        (() => {\n",
              "          let quickchartButtonEl =\n",
              "            document.querySelector('#df-4ee56564-1357-42b4-9430-6d5d3db51878 button');\n",
              "          quickchartButtonEl.style.display =\n",
              "            google.colab.kernel.accessAllowed ? 'block' : 'none';\n",
              "        })();\n",
              "      </script>\n",
              "    </div>\n",
              "\n",
              "    </div>\n",
              "  </div>\n"
            ],
            "application/vnd.google.colaboratory.intrinsic+json": {
              "type": "dataframe",
              "summary": "{\n  \"name\": \"data\",\n  \"rows\": 5,\n  \"fields\": [\n    {\n      \"column\": \"mpg\",\n      \"properties\": {\n        \"dtype\": \"number\",\n        \"std\": 6.160194802114621,\n        \"min\": 15.0,\n        \"max\": 30.4,\n        \"num_unique_values\": 5,\n        \"samples\": [\n          15.8,\n          21.4,\n          19.7\n        ],\n        \"semantic_type\": \"\",\n        \"description\": \"\"\n      }\n    },\n    {\n      \"column\": \"cyl\",\n      \"properties\": {\n        \"dtype\": \"number\",\n        \"std\": 2,\n        \"min\": 4,\n        \"max\": 8,\n        \"num_unique_values\": 3,\n        \"samples\": [\n          4,\n          8,\n          6\n        ],\n        \"semantic_type\": \"\",\n        \"description\": \"\"\n      }\n    },\n    {\n      \"column\": \"disp\",\n      \"properties\": {\n        \"dtype\": \"number\",\n        \"std\": 115.36646826526328,\n        \"min\": 95.1,\n        \"max\": 351.0,\n        \"num_unique_values\": 5,\n        \"samples\": [\n          351.0,\n          121.0,\n          145.0\n        ],\n        \"semantic_type\": \"\",\n        \"description\": \"\"\n      }\n    },\n    {\n      \"column\": \"hp\",\n      \"properties\": {\n        \"dtype\": \"number\",\n        \"std\": 98,\n        \"min\": 109,\n        \"max\": 335,\n        \"num_unique_values\": 5,\n        \"samples\": [\n          264,\n          109,\n          175\n        ],\n        \"semantic_type\": \"\",\n        \"description\": \"\"\n      }\n    },\n    {\n      \"column\": \"drat\",\n      \"properties\": {\n        \"dtype\": \"number\",\n        \"std\": 0.2999499958326387,\n        \"min\": 3.54,\n        \"max\": 4.22,\n        \"num_unique_values\": 5,\n        \"samples\": [\n          4.22,\n          4.11,\n          3.62\n        ],\n        \"semantic_type\": \"\",\n        \"description\": \"\"\n      }\n    },\n    {\n      \"column\": \"wt\",\n      \"properties\": {\n        \"dtype\": \"number\",\n        \"std\": 0.771314981055081,\n        \"min\": 1.513,\n        \"max\": 3.57,\n        \"num_unique_values\": 5,\n        \"samples\": [\n          3.17,\n          2.78,\n          2.77\n        ],\n        \"semantic_type\": \"\",\n        \"description\": \"\"\n      }\n    },\n    {\n      \"column\": \"qsec\",\n      \"properties\": {\n        \"dtype\": \"number\",\n        \"std\": 1.7340703561274557,\n        \"min\": 14.5,\n        \"max\": 18.6,\n        \"num_unique_values\": 5,\n        \"samples\": [\n          14.5,\n          18.6,\n          15.5\n        ],\n        \"semantic_type\": \"\",\n        \"description\": \"\"\n      }\n    },\n    {\n      \"column\": \"vs\",\n      \"properties\": {\n        \"dtype\": \"number\",\n        \"std\": 0,\n        \"min\": 0,\n        \"max\": 1,\n        \"num_unique_values\": 2,\n        \"samples\": [\n          0,\n          1\n        ],\n        \"semantic_type\": \"\",\n        \"description\": \"\"\n      }\n    },\n    {\n      \"column\": \"am\",\n      \"properties\": {\n        \"dtype\": \"number\",\n        \"std\": 0,\n        \"min\": 1,\n        \"max\": 1,\n        \"num_unique_values\": 1,\n        \"samples\": [\n          1\n        ],\n        \"semantic_type\": \"\",\n        \"description\": \"\"\n      }\n    },\n    {\n      \"column\": \"gear\",\n      \"properties\": {\n        \"dtype\": \"number\",\n        \"std\": 0,\n        \"min\": 4,\n        \"max\": 5,\n        \"num_unique_values\": 2,\n        \"samples\": [\n          4\n        ],\n        \"semantic_type\": \"\",\n        \"description\": \"\"\n      }\n    },\n    {\n      \"column\": \"carb\",\n      \"properties\": {\n        \"dtype\": \"number\",\n        \"std\": 2,\n        \"min\": 2,\n        \"max\": 8,\n        \"num_unique_values\": 4,\n        \"samples\": [\n          4\n        ],\n        \"semantic_type\": \"\",\n        \"description\": \"\"\n      }\n    }\n  ]\n}"
            }
          },
          "metadata": {},
          "execution_count": 12
        }
      ],
      "source": [
        "data = pd.read_excel(\"Motor Trend Car Road Tests.xlsx\")\n",
        "data = data.drop(columns = ['model'])\n",
        "data.tail()"
      ]
    },
    {
      "cell_type": "code",
      "source": [
        "x = data.drop(columns = ['mpg'])\n",
        "y = data['mpg']"
      ],
      "metadata": {
        "id": "wHLEveqele40"
      },
      "id": "wHLEveqele40",
      "execution_count": 14,
      "outputs": []
    },
    {
      "cell_type": "code",
      "execution_count": 32,
      "id": "40ad85dc-3106-4430-9ed2-b6354e00d87f",
      "metadata": {
        "colab": {
          "base_uri": "https://localhost:8080/"
        },
        "id": "40ad85dc-3106-4430-9ed2-b6354e00d87f",
        "outputId": "149ac3fb-e7e9-4613-c3d2-e4ab8bc77531"
      },
      "outputs": [
        {
          "output_type": "stream",
          "name": "stdout",
          "text": [
            "MSE promedio: 12.18155800690194\n",
            "Desviación estándar: 17.067399871888572\n"
          ]
        }
      ],
      "source": [
        "mses = []\n",
        "\n",
        "for i in range(32):\n",
        "  x_train = x.drop(i).to_numpy()\n",
        "  x_test = x.iloc[i].to_numpy().reshape(1, -1)\n",
        "  y_train = y.drop(i).to_numpy()\n",
        "  y_test = y.iloc[i]\n",
        "\n",
        "  scaler = StandardScaler()\n",
        "  x_train = scaler.fit_transform(x_train)\n",
        "  x_test = scaler.transform(x_test)\n",
        "\n",
        "  lr = LinearRegression()\n",
        "  lr.fit(x_train, y_train)\n",
        "\n",
        "  y_pred = lr.predict(x_test)\n",
        "\n",
        "  mse = mean_squared_error([y_test], y_pred)\n",
        "  mses.append(mse)\n",
        "\n",
        "print(\"MSE promedio:\", np.mean(mses))\n",
        "print(\"Desviación estándar:\", np.std(mses))\n",
        "\n"
      ]
    },
    {
      "cell_type": "markdown",
      "id": "c8724bdb-e50b-4470-b53a-2d9843fae6ea",
      "metadata": {
        "id": "c8724bdb-e50b-4470-b53a-2d9843fae6ea"
      },
      "source": [
        "Interpreta."
      ]
    },
    {
      "cell_type": "markdown",
      "id": "b19904df-1fe6-433a-b1bd-a7ce86ce0eef",
      "metadata": {
        "id": "b19904df-1fe6-433a-b1bd-a7ce86ce0eef"
      },
      "source": [
        "El resultado muestra que el modelo tiene un error cuadrático medio (MSE) promedio de aproximadamente 12.18. Este valor indica que, en promedio, las predicciones del modelo se desvían de los valores reales con un error moderado. Sin embargo, la desviación estándar del MSE es de 17.07, lo cual es considerablemente alta en relación con el promedio. Esto sugiere que el rendimiento del modelo no es consistente entre las distintas muestras evaluadas."
      ]
    },
    {
      "cell_type": "markdown",
      "id": "dbc61dd1-fa5f-43b0-969a-592f8e9fc56f",
      "metadata": {
        "id": "dbc61dd1-fa5f-43b0-969a-592f8e9fc56f"
      },
      "source": [
        "\n",
        "\n",
        "## K-Folds Cross-Validation"
      ]
    },
    {
      "cell_type": "markdown",
      "id": "2dbca526-2c69-4c70-b6b4-270fc51d825b",
      "metadata": {
        "id": "2dbca526-2c69-4c70-b6b4-270fc51d825b"
      },
      "source": [
        "El dataset `Motor Trend Car Road Tests` sólo tiene 32 muestras, y utilizar un modelo sencillo de regresión múltiple hace que usar LOOCV sea muy rápido. El dataset `California Housing` tiene $20640$ muestras para $9$ columnas, entonces realizar un ajuste sobre una transformación o sobre el modelo y luego calcular el impacto esperado podría tomar más tiempo."
      ]
    },
    {
      "cell_type": "markdown",
      "id": "8a437812-c00e-400f-ae7d-110b3afa5dc3",
      "metadata": {
        "id": "8a437812-c00e-400f-ae7d-110b3afa5dc3"
      },
      "source": [
        "La solución propuesta es dividir el dataset en *k* folds (partes iguales), ajustar en *k-1* folds y probar en el restante."
      ]
    },
    {
      "cell_type": "markdown",
      "id": "5bb82cc3-0d35-442a-a12b-f9c6fd131af2",
      "metadata": {
        "id": "5bb82cc3-0d35-442a-a12b-f9c6fd131af2"
      },
      "source": [
        "### Ejercicio 2\n",
        "Utiliza el dataset `California Housing` y haz K-folds Cross Validation con 10 folds. Utiliza el MSE como métrico."
      ]
    },
    {
      "cell_type": "code",
      "execution_count": null,
      "id": "ba50e361-edcd-4cdb-9609-68f20d6fca97",
      "metadata": {
        "id": "ba50e361-edcd-4cdb-9609-68f20d6fca97"
      },
      "outputs": [],
      "source": [
        "from sklearn.datasets import fetch_california_housing\n",
        "\n",
        "housing = fetch_california_housing()\n",
        "print(\"Dataset Shape:\", housing.data.shape, housing.target.shape)\n",
        "print(\"Dataset Features:\", housing.feature_names)\n",
        "print(\"Dataset Target:\", housing.target_names)\n",
        "X = housing.data\n",
        "y = housing.target"
      ]
    },
    {
      "cell_type": "code",
      "execution_count": null,
      "id": "4e8570a4-76bb-4d81-a90b-43647b0df438",
      "metadata": {
        "id": "4e8570a4-76bb-4d81-a90b-43647b0df438"
      },
      "outputs": [],
      "source": []
    },
    {
      "cell_type": "code",
      "execution_count": null,
      "id": "54f44358-f47d-493b-93cf-10aa2314fa20",
      "metadata": {
        "id": "54f44358-f47d-493b-93cf-10aa2314fa20"
      },
      "outputs": [],
      "source": []
    },
    {
      "cell_type": "markdown",
      "id": "34f7098f-a1de-4508-b3ff-af1484561856",
      "metadata": {
        "id": "34f7098f-a1de-4508-b3ff-af1484561856"
      },
      "source": [
        "Interpreta."
      ]
    },
    {
      "cell_type": "markdown",
      "id": "b7fbaf4d-f62b-46d9-9a35-23fcdd50a8ca",
      "metadata": {
        "id": "b7fbaf4d-f62b-46d9-9a35-23fcdd50a8ca"
      },
      "source": []
    },
    {
      "cell_type": "markdown",
      "id": "333c8039-5b38-4835-a523-d4f6f7a7040b",
      "metadata": {
        "id": "333c8039-5b38-4835-a523-d4f6f7a7040b"
      },
      "source": []
    },
    {
      "cell_type": "markdown",
      "id": "da5792ac-6d38-4f02-bf10-aeaa0a040d17",
      "metadata": {
        "id": "da5792ac-6d38-4f02-bf10-aeaa0a040d17"
      },
      "source": [
        "## Referencia\n",
        "\n",
        "James, G., Witten, D., Hastie, T., Tibshirani, R.,, Taylor, J. (2023). An Introduction to Statistical Learning with Applications in Python. Cham: Springer. ISBN: 978-3-031-38746-3"
      ]
    }
  ],
  "metadata": {
    "kernelspec": {
      "display_name": "Python 3 (ipykernel)",
      "language": "python",
      "name": "python3"
    },
    "language_info": {
      "codemirror_mode": {
        "name": "ipython",
        "version": 3
      },
      "file_extension": ".py",
      "mimetype": "text/x-python",
      "name": "python",
      "nbconvert_exporter": "python",
      "pygments_lexer": "ipython3",
      "version": "3.12.7"
    },
    "colab": {
      "provenance": []
    }
  },
  "nbformat": 4,
  "nbformat_minor": 5
}