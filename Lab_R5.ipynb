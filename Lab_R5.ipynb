{
  "cells": [
    {
      "cell_type": "markdown",
      "id": "70086771-ad90-497d-9b51-22626c9cce63",
      "metadata": {
        "id": "70086771-ad90-497d-9b51-22626c9cce63"
      },
      "source": [
        "# Laboratorio de regresión - 5"
      ]
    },
    {
      "cell_type": "markdown",
      "id": "9f666e0e-9e63-49f4-96e1-053c5b1738c3",
      "metadata": {
        "id": "9f666e0e-9e63-49f4-96e1-053c5b1738c3"
      },
      "source": [
        "|                |   |\n",
        ":----------------|---|\n",
        "| **Nombre**     | Ana Sofía Hinojosa Bale  |\n",
        "| **Fecha**      | 18 de septiembre 2025  |\n",
        "| **Expediente** | 742594  |"
      ]
    },
    {
      "cell_type": "markdown",
      "id": "19f352dc-5863-4685-af3c-25f8fcf60841",
      "metadata": {
        "id": "19f352dc-5863-4685-af3c-25f8fcf60841"
      },
      "source": [
        "## Validación"
      ]
    },
    {
      "cell_type": "markdown",
      "id": "b73fccec-9651-4f74-9d56-a3c2b2097e19",
      "metadata": {
        "id": "b73fccec-9651-4f74-9d56-a3c2b2097e19"
      },
      "source": [
        "Hemos estado usando `train_test_split` en nuestros modelos anteriores.\n",
        "\n",
        "¿Por qué?"
      ]
    },
    {
      "cell_type": "markdown",
      "id": "84fe97ab-a033-4d0f-ab73-0cdabe591655",
      "metadata": {
        "id": "84fe97ab-a033-4d0f-ab73-0cdabe591655"
      },
      "source": [
        "Se usa ya que se quiere ver sí el nmodelo puede generalizar bien o si se está sobreajustando a los datos que se le están proporcionando. El hecho de dividir el conjunto de datos en uno de entrenamiento con el que el modelo se ajuste, y uno de prueba, con el que podamos darnos cuenta de que tan bien o no ajustado esté el modelo."
      ]
    },
    {
      "cell_type": "markdown",
      "id": "0a60a028-ed60-4a5c-9308-dee4862e2bac",
      "metadata": {
        "id": "0a60a028-ed60-4a5c-9308-dee4862e2bac"
      },
      "source": [
        "Si la muestra es un subset de la población y queremos generalizar sobre la población, ¿no sería mejor utilizar todos los datos al entrenar un modelo?"
      ]
    },
    {
      "cell_type": "markdown",
      "id": "50989a32-59e7-4bef-9b60-89f543d8ca81",
      "metadata": {
        "id": "50989a32-59e7-4bef-9b60-89f543d8ca81"
      },
      "source": [
        "Sí, pero esto no siempre se puede, ya que en algunos casos son demasiados datos, lo cual puede tomar mucho tiempo o esfuerzo de la computadora para realizar las regresiones.\n",
        "\n",
        "Al mismo tiempo, si se entrenan todos los datos desde el principio, no se tiene forma de saber si el modelo realmente está generalizando o si se está sobreajustando a los datos."
      ]
    },
    {
      "cell_type": "markdown",
      "id": "b98d96f3-7370-4161-aa67-75f10e5817cd",
      "metadata": {
        "id": "b98d96f3-7370-4161-aa67-75f10e5817cd"
      },
      "source": [
        "El propósito de volver a muestrear dentro de nuestro dataset es tener una idea de qué tan buena podría ser la generalización de nuestro modelo. Imagina un dataset ya separado en dos mitades. Utilizas la primera mitad para entrenar el modelo y pruebas en la segunda mitad; la segunda mitad eran datos invisibles para el modelo al momento de entrenar. Esto nos lleva a tres escenario típicos:\n",
        "\n",
        "1. Si el modelo hace buenas predicciones en la segunda mitad, significa que la primera mitad era \"suficiente\" para generalizar.\n",
        "2. Si el modelo no hace buenas predicciones en la segunda mitad, pero sí en la primera mitad, podría ser que había información importante en la segunda mitad que debió haber sido tomada en cuenta al entrenar, o un problema de overfitting.\n",
        "3. Si el modelo no hace buenas predicciones en la segunda mitad, y tampoco en la primera mitad, se tendrían que revisar los factores y/o el modelo seleccionado.\n",
        "\n",
        "El caso ideal sería el 1, pero por estadística los errores y varianzas tienen como entrada el número de muestas, por lo que tenemos menos seguridad de nuestros resutados al usar menos muestras. Si vemos que el modelo generaliza bien podemos unir de nuevo el dataset y entrenar sobre el dataset completo.\n",
        "\n",
        "En el caso 2 está el problema de que no podemos saber qué información es necesaria para el entrenamiento apropiado del modelo; esto nos lleva a pensar que debemos usar el dataset completo para entrenar, pero esto nos lleva al mismo problema de no saber si el modelo puede generalizar.\n",
        "\n",
        "El problema sólo incrementa si se tienen hiperparámetros en el modelo (e.g. $\\lambda$ en regularización)."
      ]
    },
    {
      "cell_type": "markdown",
      "id": "a16176ad-41fc-4f3c-b865-2eb4219152e2",
      "metadata": {
        "id": "a16176ad-41fc-4f3c-b865-2eb4219152e2"
      },
      "source": [
        "## Leave-One-Out Cross Validation"
      ]
    },
    {
      "cell_type": "markdown",
      "id": "e1f7165d-5b5d-4e92-ae7f-7edb12eea745",
      "metadata": {
        "id": "e1f7165d-5b5d-4e92-ae7f-7edb12eea745"
      },
      "source": [
        "Este método de validación es una colección de $n$ `train-test-split`. Teniendo un dataset de $n$ muestras, la lógica es:\n",
        "1. Saca una muestra del dataset.\n",
        "2. Entrena tu modelo con las $n-1$ muestras.\n",
        "3. Evalúa tu modelo en la muestra que quedó fuera con el métrico que más se ajuste a la aplicación.\n",
        "4. Regresa la muestra al dataset.\n",
        "5. Repite 1-4 con muestras diferentes hasta haber hecho el procedimiento $n$ veces para $n$ muestras.\n",
        "6. Calcula la media y desviación estándar de los métricos guardados."
      ]
    },
    {
      "cell_type": "markdown",
      "id": "21340b80-8fa4-4cdf-8fe4-85e4a35febcd",
      "metadata": {
        "id": "21340b80-8fa4-4cdf-8fe4-85e4a35febcd"
      },
      "source": [
        "Con los resultados del proceso de validación podemos saber qué tan bueno podría ser el modelo seleccionado con los datos (con/sin transformaciones)."
      ]
    },
    {
      "cell_type": "markdown",
      "id": "0983bf1c-a6a2-42e4-a522-92bba6b450ab",
      "metadata": {
        "id": "0983bf1c-a6a2-42e4-a522-92bba6b450ab"
      },
      "source": [
        "### Ejercicio 1"
      ]
    },
    {
      "cell_type": "markdown",
      "id": "21e5f076-bc52-482c-9560-ecd0c125efa7",
      "metadata": {
        "id": "21e5f076-bc52-482c-9560-ecd0c125efa7"
      },
      "source": [
        "Utiliza el dataset `Motor Trend Car Road Tests`. Elimina la columna `model` y entrena 32 modelos diferentes utilizando Leave-One-Out Cross Validation con target `mpg`. Utiliza MSE como métrico."
      ]
    },
    {
      "cell_type": "code",
      "execution_count": 1,
      "id": "1pZue3u0jSir",
      "metadata": {
        "id": "1pZue3u0jSir"
      },
      "outputs": [],
      "source": [
        "import pandas as pd\n",
        "import numpy as np\n",
        "import matplotlib.pyplot as plt\n",
        "from sklearn.linear_model import LinearRegression\n",
        "from sklearn.metrics import r2_score\n",
        "from scipy import stats\n",
        "from sklearn.preprocessing import StandardScaler\n",
        "from sklearn.metrics import mean_squared_error"
      ]
    },
    {
      "cell_type": "code",
      "execution_count": 2,
      "id": "b7199ca1-32f0-463b-925f-76613d608a72",
      "metadata": {
        "colab": {
          "base_uri": "https://localhost:8080/",
          "height": 206
        },
        "id": "b7199ca1-32f0-463b-925f-76613d608a72",
        "outputId": "e4eeefc9-b3ba-4175-c5e6-7282ecec2ebc"
      },
      "outputs": [
        {
          "data": {
            "text/html": [
              "<div>\n",
              "<style scoped>\n",
              "    .dataframe tbody tr th:only-of-type {\n",
              "        vertical-align: middle;\n",
              "    }\n",
              "\n",
              "    .dataframe tbody tr th {\n",
              "        vertical-align: top;\n",
              "    }\n",
              "\n",
              "    .dataframe thead th {\n",
              "        text-align: right;\n",
              "    }\n",
              "</style>\n",
              "<table border=\"1\" class=\"dataframe\">\n",
              "  <thead>\n",
              "    <tr style=\"text-align: right;\">\n",
              "      <th></th>\n",
              "      <th>mpg</th>\n",
              "      <th>cyl</th>\n",
              "      <th>disp</th>\n",
              "      <th>hp</th>\n",
              "      <th>drat</th>\n",
              "      <th>wt</th>\n",
              "      <th>qsec</th>\n",
              "      <th>vs</th>\n",
              "      <th>am</th>\n",
              "      <th>gear</th>\n",
              "      <th>carb</th>\n",
              "    </tr>\n",
              "  </thead>\n",
              "  <tbody>\n",
              "    <tr>\n",
              "      <th>27</th>\n",
              "      <td>30.4</td>\n",
              "      <td>4</td>\n",
              "      <td>95.1</td>\n",
              "      <td>113</td>\n",
              "      <td>3.77</td>\n",
              "      <td>1.513</td>\n",
              "      <td>16.9</td>\n",
              "      <td>1</td>\n",
              "      <td>1</td>\n",
              "      <td>5</td>\n",
              "      <td>2</td>\n",
              "    </tr>\n",
              "    <tr>\n",
              "      <th>28</th>\n",
              "      <td>15.8</td>\n",
              "      <td>8</td>\n",
              "      <td>351.0</td>\n",
              "      <td>264</td>\n",
              "      <td>4.22</td>\n",
              "      <td>3.170</td>\n",
              "      <td>14.5</td>\n",
              "      <td>0</td>\n",
              "      <td>1</td>\n",
              "      <td>5</td>\n",
              "      <td>4</td>\n",
              "    </tr>\n",
              "    <tr>\n",
              "      <th>29</th>\n",
              "      <td>19.7</td>\n",
              "      <td>6</td>\n",
              "      <td>145.0</td>\n",
              "      <td>175</td>\n",
              "      <td>3.62</td>\n",
              "      <td>2.770</td>\n",
              "      <td>15.5</td>\n",
              "      <td>0</td>\n",
              "      <td>1</td>\n",
              "      <td>5</td>\n",
              "      <td>6</td>\n",
              "    </tr>\n",
              "    <tr>\n",
              "      <th>30</th>\n",
              "      <td>15.0</td>\n",
              "      <td>8</td>\n",
              "      <td>301.0</td>\n",
              "      <td>335</td>\n",
              "      <td>3.54</td>\n",
              "      <td>3.570</td>\n",
              "      <td>14.6</td>\n",
              "      <td>0</td>\n",
              "      <td>1</td>\n",
              "      <td>5</td>\n",
              "      <td>8</td>\n",
              "    </tr>\n",
              "    <tr>\n",
              "      <th>31</th>\n",
              "      <td>21.4</td>\n",
              "      <td>4</td>\n",
              "      <td>121.0</td>\n",
              "      <td>109</td>\n",
              "      <td>4.11</td>\n",
              "      <td>2.780</td>\n",
              "      <td>18.6</td>\n",
              "      <td>1</td>\n",
              "      <td>1</td>\n",
              "      <td>4</td>\n",
              "      <td>2</td>\n",
              "    </tr>\n",
              "  </tbody>\n",
              "</table>\n",
              "</div>"
            ],
            "text/plain": [
              "     mpg  cyl   disp   hp  drat     wt  qsec  vs  am  gear  carb\n",
              "27  30.4    4   95.1  113  3.77  1.513  16.9   1   1     5     2\n",
              "28  15.8    8  351.0  264  4.22  3.170  14.5   0   1     5     4\n",
              "29  19.7    6  145.0  175  3.62  2.770  15.5   0   1     5     6\n",
              "30  15.0    8  301.0  335  3.54  3.570  14.6   0   1     5     8\n",
              "31  21.4    4  121.0  109  4.11  2.780  18.6   1   1     4     2"
            ]
          },
          "execution_count": 2,
          "metadata": {},
          "output_type": "execute_result"
        }
      ],
      "source": [
        "data = pd.read_excel(\"Motor Trend Car Road Tests.xlsx\")\n",
        "data = data.drop(columns = ['model'])\n",
        "data.tail()"
      ]
    },
    {
      "cell_type": "code",
      "execution_count": 3,
      "id": "wHLEveqele40",
      "metadata": {
        "id": "wHLEveqele40"
      },
      "outputs": [],
      "source": [
        "x = data.drop(columns = ['mpg'])\n",
        "y = data['mpg']"
      ]
    },
    {
      "cell_type": "code",
      "execution_count": 4,
      "id": "40ad85dc-3106-4430-9ed2-b6354e00d87f",
      "metadata": {
        "colab": {
          "base_uri": "https://localhost:8080/"
        },
        "id": "40ad85dc-3106-4430-9ed2-b6354e00d87f",
        "outputId": "149ac3fb-e7e9-4613-c3d2-e4ab8bc77531"
      },
      "outputs": [
        {
          "name": "stdout",
          "output_type": "stream",
          "text": [
            "MSE promedio: 12.181558006901941\n",
            "Desviación estándar: 17.067399871888583\n"
          ]
        }
      ],
      "source": [
        "mses = []\n",
        "\n",
        "for i in range(32):\n",
        "  x_train = x.drop(i).to_numpy()\n",
        "  x_test = x.iloc[i].to_numpy().reshape(1, -1)\n",
        "  y_train = y.drop(i).to_numpy()\n",
        "  y_test = y.iloc[i]\n",
        "\n",
        "  scaler = StandardScaler()\n",
        "  x_train = scaler.fit_transform(x_train)\n",
        "  x_test = scaler.transform(x_test)\n",
        "\n",
        "  lr = LinearRegression()\n",
        "  lr.fit(x_train, y_train)\n",
        "\n",
        "  y_pred = lr.predict(x_test)\n",
        "\n",
        "  mse = mean_squared_error([y_test], y_pred)\n",
        "  mses.append(mse)\n",
        "\n",
        "print(\"MSE promedio:\", np.mean(mses))\n",
        "print(\"Desviación estándar:\", np.std(mses))\n",
        "\n"
      ]
    },
    {
      "cell_type": "markdown",
      "id": "b19904df-1fe6-433a-b1bd-a7ce86ce0eef",
      "metadata": {
        "id": "b19904df-1fe6-433a-b1bd-a7ce86ce0eef"
      },
      "source": [
        "El resultado muestra que el modelo tiene un error cuadrático medio (MSE) promedio de aproximadamente 12.18. Este valor indica que, en promedio, las predicciones del modelo se desvían de los valores reales con un error moderado. Sin embargo, la desviación estándar del MSE es de 17.07, lo cual es considerablemente alta en relación con el promedio. Esto sugiere que el rendimiento del modelo no es consistente entre las distintas muestras evaluadas."
      ]
    },
    {
      "cell_type": "markdown",
      "id": "dbc61dd1-fa5f-43b0-969a-592f8e9fc56f",
      "metadata": {
        "id": "dbc61dd1-fa5f-43b0-969a-592f8e9fc56f"
      },
      "source": [
        "\n",
        "\n",
        "## K-Folds Cross-Validation"
      ]
    },
    {
      "cell_type": "markdown",
      "id": "2dbca526-2c69-4c70-b6b4-270fc51d825b",
      "metadata": {
        "id": "2dbca526-2c69-4c70-b6b4-270fc51d825b"
      },
      "source": [
        "El dataset `Motor Trend Car Road Tests` sólo tiene 32 muestras, y utilizar un modelo sencillo de regresión múltiple hace que usar LOOCV sea muy rápido. El dataset `California Housing` tiene $20640$ muestras para $9$ columnas, entonces realizar un ajuste sobre una transformación o sobre el modelo y luego calcular el impacto esperado podría tomar más tiempo."
      ]
    },
    {
      "cell_type": "markdown",
      "id": "8a437812-c00e-400f-ae7d-110b3afa5dc3",
      "metadata": {
        "id": "8a437812-c00e-400f-ae7d-110b3afa5dc3"
      },
      "source": [
        "La solución propuesta es dividir el dataset en *k* folds (partes iguales), ajustar en *k-1* folds y probar en el restante."
      ]
    },
    {
      "cell_type": "markdown",
      "id": "5bb82cc3-0d35-442a-a12b-f9c6fd131af2",
      "metadata": {
        "id": "5bb82cc3-0d35-442a-a12b-f9c6fd131af2"
      },
      "source": [
        "### Ejercicio 2\n",
        "Utiliza el dataset `California Housing` y haz K-folds Cross Validation con 10 folds. Utiliza el MSE como métrico."
      ]
    },
    {
      "cell_type": "code",
      "execution_count": 5,
      "id": "ba50e361-edcd-4cdb-9609-68f20d6fca97",
      "metadata": {
        "id": "ba50e361-edcd-4cdb-9609-68f20d6fca97"
      },
      "outputs": [
        {
          "name": "stdout",
          "output_type": "stream",
          "text": [
            "Dataset Shape: (20640, 8) (20640,)\n",
            "Dataset Features: ['MedInc', 'HouseAge', 'AveRooms', 'AveBedrms', 'Population', 'AveOccup', 'Latitude', 'Longitude']\n",
            "Dataset Target: ['MedHouseVal']\n"
          ]
        }
      ],
      "source": [
        "from sklearn.datasets import fetch_california_housing\n",
        "\n",
        "housing = fetch_california_housing()\n",
        "print(\"Dataset Shape:\", housing.data.shape, housing.target.shape)\n",
        "print(\"Dataset Features:\", housing.feature_names)\n",
        "print(\"Dataset Target:\", housing.target_names)\n",
        "X = housing.data\n",
        "y = housing.target"
      ]
    },
    {
      "cell_type": "code",
      "execution_count": 6,
      "id": "54f44358-f47d-493b-93cf-10aa2314fa20",
      "metadata": {
        "id": "54f44358-f47d-493b-93cf-10aa2314fa20"
      },
      "outputs": [],
      "source": [
        "n_folds = 10\n",
        "fold_size = len(X) // n_folds\n",
        "mses = []\n",
        "\n",
        "indices = np.random.permutation(len(X))\n",
        "\n",
        "X_shuffled = X[indices]\n",
        "y_shuffled = y[indices]"
      ]
    },
    {
      "cell_type": "code",
      "execution_count": 7,
      "id": "a92d5884",
      "metadata": {},
      "outputs": [
        {
          "name": "stdout",
          "output_type": "stream",
          "text": [
            "MSE promedio: 0.5277737473505328\n",
            "Desviación estándar: 0.02544862921405316\n"
          ]
        }
      ],
      "source": [
        "for k in range(n_folds):\n",
        "\n",
        "\n",
        "    inicio = k * fold_size\n",
        "\n",
        "    if k != n_folds - 1:\n",
        "        fin = (k + 1) * fold_size\n",
        "    else:\n",
        "        fin = len(X)\n",
        "\n",
        "    x_test = X_shuffled[inicio:fin]\n",
        "    y_test = y_shuffled[inicio:fin]\n",
        "\n",
        "    X_train = np.concatenate((X_shuffled[:inicio], X_shuffled[fin:]), axis = 0)\n",
        "    y_train = np.concatenate((y_shuffled[:inicio], y_shuffled[fin:]), axis = 0)\n",
        "\n",
        "    lr = LinearRegression()\n",
        "    lr.fit(X_train, y_train)\n",
        "    y_pred = lr.predict(x_test)\n",
        "    mse = mean_squared_error(y_test, y_pred)\n",
        "    mses.append(mse)\n",
        "\n",
        "print(\"MSE promedio:\", np.mean(mses))\n",
        "print(\"Desviación estándar:\", np.std(mses))    \n"
      ]
    },
    {
      "cell_type": "markdown",
      "id": "333c8039-5b38-4835-a523-d4f6f7a7040b",
      "metadata": {
        "id": "333c8039-5b38-4835-a523-d4f6f7a7040b"
      },
      "source": [
        "El resultado muestra que el modelo tiene un error cuadrático medio promedio de aproximadamente 0.52, con una desviación estándar del MSE de 0.0308. Esto indica que se tuvo un desempeño consistente en los diferentes folds, lo que significa que el modelo sí generaliza bien. En otras palabras, las predicciones del modelo no dependen solamente de una de las partes en que se dividió, sino que mantiene un rendimiento estable en las distintas divisiones creadas del conjunto de entrenamiento y prueba."
      ]
    },
    {
      "cell_type": "markdown",
      "id": "da5792ac-6d38-4f02-bf10-aeaa0a040d17",
      "metadata": {
        "id": "da5792ac-6d38-4f02-bf10-aeaa0a040d17"
      },
      "source": [
        "## Referencia\n",
        "\n",
        "James, G., Witten, D., Hastie, T., Tibshirani, R.,, Taylor, J. (2023). An Introduction to Statistical Learning with Applications in Python. Cham: Springer. ISBN: 978-3-031-38746-3"
      ]
    }
  ],
  "metadata": {
    "colab": {
      "provenance": []
    },
    "kernelspec": {
      "display_name": "Python 3",
      "language": "python",
      "name": "python3"
    },
    "language_info": {
      "codemirror_mode": {
        "name": "ipython",
        "version": 3
      },
      "file_extension": ".py",
      "mimetype": "text/x-python",
      "name": "python",
      "nbconvert_exporter": "python",
      "pygments_lexer": "ipython3",
      "version": "3.9.6"
    }
  },
  "nbformat": 4,
  "nbformat_minor": 5
}
